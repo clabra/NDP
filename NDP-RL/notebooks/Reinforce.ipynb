{
 "cells": [
  {
   "cell_type": "code",
   "execution_count": 1,
   "id": "2d0a4d71-21ba-46e1-8495-bb1d59a129e2",
   "metadata": {},
   "outputs": [
    {
     "name": "stderr",
     "output_type": "stream",
     "text": [
      "/home/shyam/anaconda3/envs/pytorch_geometric/lib/python3.8/site-packages/tqdm/auto.py:22: TqdmWarning: IProgress not found. Please update jupyter and ipywidgets. See https://ipywidgets.readthedocs.io/en/stable/user_install.html\n",
      "  from .autonotebook import tqdm as notebook_tqdm\n"
     ]
    }
   ],
   "source": [
    "import torch\n",
    "import torch.nn as nn\n",
    "import torch.optim as optim\n",
    "from typing import Any, Dict, Optional, Callable\n",
    "import torch.distributions as td\n",
    "import numpy as np\n",
    "import gym\n",
    "\n",
    "from growing_nn.graph.directed_graph import DirectedGraph\n",
    "from growing_nn.graph.graph_nca import GraphNCA\n",
    "from growing_nn.graph.generated_network import GeneratedNetwork\n",
    "from ezrl.optimizer import RLOptimizer\n",
    "from ezrl.policy import GymPolicy\n",
    "from ezrl.algorithms.reinforce import ReinforceOptimizer\n",
    "\n",
    "from ezrl.optimizer import RLOptimizer\n",
    "from ezrl.policy import GymPolicy\n",
    "from ezrl.algorithms.reinforce import ReinforceOptimizer"
   ]
  },
  {
   "cell_type": "code",
   "execution_count": 2,
   "id": "f360228a-a8b6-45d2-a846-46339dd5b21d",
   "metadata": {},
   "outputs": [],
   "source": [
    "class LunarLanderNCAPolicy(GymPolicy):\n",
    "    def __init__(self, nca, num_growth_steps: int = 3):\n",
    "        super().__init__()\n",
    "        self.input_dims = 8\n",
    "        self.output_dims = 4\n",
    "        self.num_growth_steps = num_growth_steps\n",
    "\n",
    "        self.nca = nca\n",
    "\n",
    "    def generate_network(self, num_steps):\n",
    "        graph = self.nca.grow(self.nca.graph, num_steps)\n",
    "        generated_network = graph.generate_network()\n",
    "        return generated_network\n",
    "\n",
    "    def forward(self, obs: Any, generated_network = None) -> Dict[str, Any]:\n",
    "        if generated_network is None:\n",
    "            generated_network = self.generate_network(self.num_growth_steps)\n",
    "        logits, _ = generated_network.batch_forward(inputs=obs)\n",
    "        dist = td.Categorical(logits=logits)\n",
    "        action = dist.sample()\n",
    "        return {\"action\":action, \"dist\":dist}\n",
    "\n",
    "    def act(self, obs: Any, generated_network = None):\n",
    "        out = self.forward(obs, generated_network)\n",
    "        return out[\"action\"].item(), out"
   ]
  },
  {
   "cell_type": "code",
   "execution_count": 3,
   "id": "b47bb6db-fca7-48f3-875c-4537fdb15397",
   "metadata": {},
   "outputs": [],
   "source": [
    "def reinforce_rollout(\n",
    "    policy: GymPolicy, env_name: str = None, env=None, env_creation_fn=None\n",
    "):\n",
    "    if env_name is None and env is None:\n",
    "        raise ValueError(\"env_name or env must be provided!\")\n",
    "    if env is None:\n",
    "        if env_creation_fn is None:\n",
    "            env_creation_fn = gym.make\n",
    "        env = env_creation_fn(env_name)\n",
    "    done = False\n",
    "    observations, actions, rewards = (\n",
    "        [],\n",
    "        [],\n",
    "        [],\n",
    "    )\n",
    "    observation = env.reset()\n",
    "    with torch.no_grad():\n",
    "        generated_network = policy.generate_network(policy.num_growth_steps)\n",
    "        while not done:\n",
    "            action, out = policy.act(\n",
    "                torch.from_numpy(observation).unsqueeze(0).to(policy.device), generated_network\n",
    "            )\n",
    "            next_observation, reward, done, info = env.step(action)\n",
    "\n",
    "            observations.append(observation)\n",
    "            actions.append(action)\n",
    "            rewards.append(reward)\n",
    "\n",
    "            observation = next_observation\n",
    "\n",
    "    return np.array(observations), np.array(actions), np.array(rewards)\n"
   ]
  },
  {
   "cell_type": "code",
   "execution_count": 4,
   "id": "32c01aca-c7b0-4812-acdc-c7c88a7617e6",
   "metadata": {
    "scrolled": true,
    "tags": []
   },
   "outputs": [
    {
     "name": "stderr",
     "output_type": "stream",
     "text": [
      "/home/shyam/anaconda3/envs/pytorch_geometric/lib/python3.8/site-packages/torch/utils/tensorboard/__init__.py:4: DeprecationWarning: distutils Version classes are deprecated. Use packaging.version instead.\n",
      "  if not hasattr(tensorboard, \"__version__\") or LooseVersion(\n",
      "/home/shyam/anaconda3/envs/pytorch_geometric/lib/python3.8/site-packages/tensorboard/compat/proto/tensor_shape_pb2.py:18: DeprecationWarning: Call to deprecated create function FileDescriptor(). Note: Create unlinked descriptors is going to go away. Please use get/find descriptors from generated code or query the descriptor_pool.\n",
      "  DESCRIPTOR = _descriptor.FileDescriptor(\n",
      "/home/shyam/anaconda3/envs/pytorch_geometric/lib/python3.8/site-packages/tensorboard/compat/proto/tensor_shape_pb2.py:36: DeprecationWarning: Call to deprecated create function FieldDescriptor(). Note: Create unlinked descriptors is going to go away. Please use get/find descriptors from generated code or query the descriptor_pool.\n",
      "  _descriptor.FieldDescriptor(\n",
      "/home/shyam/anaconda3/envs/pytorch_geometric/lib/python3.8/site-packages/tensorboard/compat/proto/tensor_shape_pb2.py:29: DeprecationWarning: Call to deprecated create function Descriptor(). Note: Create unlinked descriptors is going to go away. Please use get/find descriptors from generated code or query the descriptor_pool.\n",
      "  _TENSORSHAPEPROTO_DIM = _descriptor.Descriptor(\n",
      "/home/shyam/anaconda3/envs/pytorch_geometric/lib/python3.8/site-packages/tensorboard/compat/proto/types_pb2.py:19: DeprecationWarning: Call to deprecated create function FileDescriptor(). Note: Create unlinked descriptors is going to go away. Please use get/find descriptors from generated code or query the descriptor_pool.\n",
      "  DESCRIPTOR = _descriptor.FileDescriptor(\n",
      "/home/shyam/anaconda3/envs/pytorch_geometric/lib/python3.8/site-packages/tensorboard/compat/proto/types_pb2.py:33: DeprecationWarning: Call to deprecated create function EnumValueDescriptor(). Note: Create unlinked descriptors is going to go away. Please use get/find descriptors from generated code or query the descriptor_pool.\n",
      "  _descriptor.EnumValueDescriptor(\n",
      "/home/shyam/anaconda3/envs/pytorch_geometric/lib/python3.8/site-packages/tensorboard/compat/proto/types_pb2.py:27: DeprecationWarning: Call to deprecated create function EnumDescriptor(). Note: Create unlinked descriptors is going to go away. Please use get/find descriptors from generated code or query the descriptor_pool.\n",
      "  _DATATYPE = _descriptor.EnumDescriptor(\n",
      "/home/shyam/anaconda3/envs/pytorch_geometric/lib/python3.8/site-packages/tensorboard/compat/proto/types_pb2.py:287: DeprecationWarning: Call to deprecated create function FieldDescriptor(). Note: Create unlinked descriptors is going to go away. Please use get/find descriptors from generated code or query the descriptor_pool.\n",
      "  _descriptor.FieldDescriptor(\n",
      "/home/shyam/anaconda3/envs/pytorch_geometric/lib/python3.8/site-packages/tensorboard/compat/proto/types_pb2.py:280: DeprecationWarning: Call to deprecated create function Descriptor(). Note: Create unlinked descriptors is going to go away. Please use get/find descriptors from generated code or query the descriptor_pool.\n",
      "  _SERIALIZEDDTYPE = _descriptor.Descriptor(\n",
      "/home/shyam/anaconda3/envs/pytorch_geometric/lib/python3.8/site-packages/tensorboard/compat/proto/resource_handle_pb2.py:20: DeprecationWarning: Call to deprecated create function FileDescriptor(). Note: Create unlinked descriptors is going to go away. Please use get/find descriptors from generated code or query the descriptor_pool.\n",
      "  DESCRIPTOR = _descriptor.FileDescriptor(\n",
      "/home/shyam/anaconda3/envs/pytorch_geometric/lib/python3.8/site-packages/tensorboard/compat/proto/resource_handle_pb2.py:39: DeprecationWarning: Call to deprecated create function FieldDescriptor(). Note: Create unlinked descriptors is going to go away. Please use get/find descriptors from generated code or query the descriptor_pool.\n",
      "  _descriptor.FieldDescriptor(\n",
      "/home/shyam/anaconda3/envs/pytorch_geometric/lib/python3.8/site-packages/tensorboard/compat/proto/resource_handle_pb2.py:32: DeprecationWarning: Call to deprecated create function Descriptor(). Note: Create unlinked descriptors is going to go away. Please use get/find descriptors from generated code or query the descriptor_pool.\n",
      "  _RESOURCEHANDLEPROTO_DTYPEANDSHAPE = _descriptor.Descriptor(\n",
      "/home/shyam/anaconda3/envs/pytorch_geometric/lib/python3.8/site-packages/tensorboard/compat/proto/tensor_pb2.py:21: DeprecationWarning: Call to deprecated create function FileDescriptor(). Note: Create unlinked descriptors is going to go away. Please use get/find descriptors from generated code or query the descriptor_pool.\n",
      "  DESCRIPTOR = _descriptor.FileDescriptor(\n",
      "/home/shyam/anaconda3/envs/pytorch_geometric/lib/python3.8/site-packages/tensorboard/compat/proto/tensor_pb2.py:40: DeprecationWarning: Call to deprecated create function FieldDescriptor(). Note: Create unlinked descriptors is going to go away. Please use get/find descriptors from generated code or query the descriptor_pool.\n",
      "  _descriptor.FieldDescriptor(\n",
      "/home/shyam/anaconda3/envs/pytorch_geometric/lib/python3.8/site-packages/tensorboard/compat/proto/tensor_pb2.py:33: DeprecationWarning: Call to deprecated create function Descriptor(). Note: Create unlinked descriptors is going to go away. Please use get/find descriptors from generated code or query the descriptor_pool.\n",
      "  _TENSORPROTO = _descriptor.Descriptor(\n",
      "/home/shyam/anaconda3/envs/pytorch_geometric/lib/python3.8/site-packages/tensorboard/compat/proto/summary_pb2.py:20: DeprecationWarning: Call to deprecated create function FileDescriptor(). Note: Create unlinked descriptors is going to go away. Please use get/find descriptors from generated code or query the descriptor_pool.\n",
      "  DESCRIPTOR = _descriptor.FileDescriptor(\n",
      "/home/shyam/anaconda3/envs/pytorch_geometric/lib/python3.8/site-packages/tensorboard/compat/proto/summary_pb2.py:35: DeprecationWarning: Call to deprecated create function EnumValueDescriptor(). Note: Create unlinked descriptors is going to go away. Please use get/find descriptors from generated code or query the descriptor_pool.\n",
      "  _descriptor.EnumValueDescriptor(\n",
      "/home/shyam/anaconda3/envs/pytorch_geometric/lib/python3.8/site-packages/tensorboard/compat/proto/summary_pb2.py:29: DeprecationWarning: Call to deprecated create function EnumDescriptor(). Note: Create unlinked descriptors is going to go away. Please use get/find descriptors from generated code or query the descriptor_pool.\n",
      "  _DATACLASS = _descriptor.EnumDescriptor(\n",
      "/home/shyam/anaconda3/envs/pytorch_geometric/lib/python3.8/site-packages/tensorboard/compat/proto/summary_pb2.py:74: DeprecationWarning: Call to deprecated create function FieldDescriptor(). Note: Create unlinked descriptors is going to go away. Please use get/find descriptors from generated code or query the descriptor_pool.\n",
      "  _descriptor.FieldDescriptor(\n",
      "/home/shyam/anaconda3/envs/pytorch_geometric/lib/python3.8/site-packages/tensorboard/compat/proto/summary_pb2.py:67: DeprecationWarning: Call to deprecated create function Descriptor(). Note: Create unlinked descriptors is going to go away. Please use get/find descriptors from generated code or query the descriptor_pool.\n",
      "  _SUMMARYDESCRIPTION = _descriptor.Descriptor(\n"
     ]
    }
   ],
   "source": [
    "from torch.utils.tensorboard import SummaryWriter\n",
    "import os\n",
    "from datetime import datetime\n",
    "\n",
    "def get_tensorboard_logger(experiment_name: str, base_log_path: str = \"tensorboard_logs\"):\n",
    "    log_path = \"{}/{}_{}\".format(\n",
    "            base_log_path, experiment_name, datetime.now()\n",
    "        )\n",
    "    train_writer = SummaryWriter(log_path, flush_secs=10)\n",
    "    full_log_path = os.path.join(os.getcwd(), log_path)\n",
    "    print(\n",
    "        \"Follow tensorboard logs with: tensorboard --logdir '{}'\".format(\n",
    "            full_log_path\n",
    "        )\n",
    "    )\n",
    "    return train_writer"
   ]
  },
  {
   "cell_type": "code",
   "execution_count": 5,
   "id": "796c80de-249e-4fbb-af88-edd1cb6ec42f",
   "metadata": {},
   "outputs": [],
   "source": [
    "def make_inital_graph(num_inputs, num_outputs, num_channels, device):\n",
    "    x = torch.ones((num_inputs + num_outputs, num_channels), device=device)\n",
    "    edge_dict = {}\n",
    "    for i in range(num_inputs):\n",
    "        edge_dict[i] = list(range(num_inputs, num_inputs+num_outputs))\n",
    "    for i in range(num_inputs, num_inputs+num_outputs):\n",
    "        edge_dict[i] = []\n",
    "    return DirectedGraph(x, edge_dict, num_inputs, num_outputs)"
   ]
  },
  {
   "cell_type": "markdown",
   "id": "3e5c31bc-12ca-4e06-b91b-8747a7244b9c",
   "metadata": {},
   "source": [
    "## Training"
   ]
  },
  {
   "cell_type": "code",
   "execution_count": 6,
   "id": "1296c3ff-f2b6-44ea-a5ae-9c77f8392359",
   "metadata": {},
   "outputs": [],
   "source": [
    "NUM_OPERATIONS = 3\n",
    "NUM_ACTIVATIONS = 2\n",
    "NUM_HIDDEN_CHANNELS = 24\n",
    "NUM_CHANNELS = GraphNCA.get_number_of_channels(NUM_OPERATIONS, NUM_ACTIVATIONS, NUM_HIDDEN_CHANNELS)"
   ]
  },
  {
   "cell_type": "code",
   "execution_count": 7,
   "id": "51a3d9d1-70b2-4c31-8b3a-9fed00337dbd",
   "metadata": {},
   "outputs": [
    {
     "data": {
      "image/png": "[encoded data removed]",
      "text/plain": [
       "<Figure size 432x288 with 1 Axes>"
      ]
     },
     "metadata": {},
     "output_type": "display_data"
    }
   ],
   "source": [
    "device = torch.device('cuda')\n",
    "\n",
    "graph = make_inital_graph(8, 4, NUM_CHANNELS, device)\n",
    "image = graph.plot()"
   ]
  },
  {
   "cell_type": "code",
   "execution_count": 8,
   "id": "d6b3b5ca-b9a0-4b3a-9897-a352ac0a1be0",
   "metadata": {},
   "outputs": [],
   "source": [
    "nca = GraphNCA(graph, NUM_HIDDEN_CHANNELS, max_replications=1)\n",
    "\n",
    "policy = LunarLanderNCAPolicy(nca,num_growth_steps=32)\n",
    "policy = policy.to(device)"
   ]
  },
  {
   "cell_type": "code",
   "execution_count": null,
   "id": "c9e81307-bd9f-405e-a638-3dbb4ec6e60e",
   "metadata": {},
   "outputs": [
    {
     "name": "stderr",
     "output_type": "stream",
     "text": [
      "  0%|                                                                         | 0/50000 [00:00<?, ?it/s]/home/shyam/anaconda3/envs/pytorch_geometric/lib/python3.8/site-packages/gym/core.py:329: DeprecationWarning: \u001b[33mWARN: Initializing wrapper in old step API which returns one bool instead of two. It is recommended to set `new_step_api=True` to use new step API. This will be the default behaviour in future.\u001b[0m\n",
      "  deprecation(\n",
      "/home/shyam/anaconda3/envs/pytorch_geometric/lib/python3.8/site-packages/gym/wrappers/step_api_compatibility.py:39: DeprecationWarning: \u001b[33mWARN: Initializing environment in old step API which returns one bool instead of two. It is recommended to set `new_step_api=True` to use new step API. This will be the default behaviour in future.\u001b[0m\n",
      "  deprecation(\n"
     ]
    },
    {
     "name": "stdout",
     "output_type": "stream",
     "text": [
      "Follow tensorboard logs with: tensorboard --logdir '/home/shyam/Code/growing-nn/notebooks/tensorboard_logs/ReinforceNCALunarLander_2022-08-14 18:17:23.876973'\n"
     ]
    },
    {
     "name": "stderr",
     "output_type": "stream",
     "text": [
      "Loss: 334.1636962890625, Reward: -40.534195253267946:   0%|      | 12/50000 [01:48<120:37:11,  8.69s/it]"
     ]
    }
   ],
   "source": [
    "from tqdm import tqdm\n",
    "\n",
    "bar = tqdm(np.arange(50000))\n",
    "\n",
    "writer = get_tensorboard_logger(\"ReinforceNCALunarLander\")\n",
    "optimizer = ReinforceOptimizer(policy, lr=0.01)\n",
    "\n",
    "for i in bar:\n",
    "    observations, actions, rewards = optimizer.rollout(reinforce_rollout, env_name = \"LunarLander-v2\")\n",
    "\n",
    "    torch_observations = torch.from_numpy(observations).to(policy.device)\n",
    "    torch_actions = torch.from_numpy(actions).float().to(policy.device)\n",
    "    torch_rewards = torch.from_numpy(rewards).float().to(policy.device)\n",
    "\n",
    "\n",
    "    optimizer.zero_grad()\n",
    "    loss = optimizer.loss_fn(torch_observations, torch_actions, torch_rewards)\n",
    "    loss.backward()\n",
    "    # torch.nn.utils.clip_grad_norm_(policy.parameters(), 10.0)\n",
    "    optimizer.step()\n",
    "\n",
    "    # metrics\n",
    "\n",
    "    grad_dict = {}\n",
    "    for n, W in policy.named_parameters():\n",
    "        if W.grad is not None:\n",
    "            grad_dict[\"{}_grad\".format(n)] = float(torch.sum(W.grad).item())\n",
    "\n",
    "    loss = loss.item()\n",
    "    sum_reward = np.sum(rewards)\n",
    "\n",
    "    metrics_dict = {\"loss\":loss, \"sum_reward\":sum_reward, **grad_dict}\n",
    "\n",
    "    for key in metrics_dict:\n",
    "        writer.add_scalar(key, metrics_dict[key], i)\n",
    "\n",
    "\n",
    "    bar.set_description(\"Loss: {}, Reward: {}\".format(loss, sum_reward))"
   ]
  }
 ],
 "metadata": {
  "kernelspec": {
   "display_name": "Python [conda env:pytorch_geometric] *",
   "language": "python",
   "name": "conda-env-pytorch_geometric-py"
  },
  "language_info": {
   "codemirror_mode": {
    "name": "ipython",
    "version": 3
   },
   "file_extension": ".py",
   "mimetype": "text/x-python",
   "name": "python",
   "nbconvert_exporter": "python",
   "pygments_lexer": "ipython3",
   "version": "3.8.0"
  }
 },
 "nbformat": 4,
 "nbformat_minor": 5
}
