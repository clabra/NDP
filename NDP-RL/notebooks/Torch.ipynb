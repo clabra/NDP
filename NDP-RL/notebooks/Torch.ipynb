{
 "cells": [
  {
   "cell_type": "code",
   "execution_count": 1,
   "id": "47ff38be-bfef-4f7a-b848-185e3c0a356b",
   "metadata": {},
   "outputs": [
    {
     "name": "stderr",
     "output_type": "stream",
     "text": [
      "/home/shyam/anaconda3/envs/pytorch_geometric/lib/python3.8/site-packages/tqdm/auto.py:22: TqdmWarning: IProgress not found. Please update jupyter and ipywidgets. See https://ipywidgets.readthedocs.io/en/stable/user_install.html\n",
      "  from .autonotebook import tqdm as notebook_tqdm\n"
     ]
    }
   ],
   "source": [
    "import torch.nn as nn\n",
    "import numpy as np\n",
    "import networkx as nx\n"
   ]
  },
  {
   "cell_type": "code",
   "execution_count": 2,
   "id": "71169891-97a5-4816-b11c-cbf16df39d0f",
   "metadata": {},
   "outputs": [
    {
     "data": {
      "image/png": "[encoded data removed]",
      "text/plain": [
       "<Figure size 432x288 with 1 Axes>"
      ]
     },
     "metadata": {},
     "output_type": "display_data"
    }
   ],
   "source": [
    "import torch\n",
    "from torch_geometric.data import Data\n",
    "from torch_geometric.nn import knn_graph, GCNConv, max_pool_neighbor_x, radius_graph, knn\n",
    "import torch_geometric\n",
    "import matplotlib\n",
    "\n",
    "edge_index = torch.tensor([[0, 2],\n",
    "                           [1, 2],\n",
    "                           ], dtype=torch.long)\n",
    "# x = torch.tensor([[-15, 1], [0, 1], [30, 1], [0,2]], dtype=torch.float)\n",
    "x = torch.randn((3, 21))\n",
    "data = Data(x=x, edge_index=edge_index.t())\n",
    "g = torch_geometric.utils.to_networkx(data, to_undirected=False)\n",
    "nx.draw(g, with_labels=True)"
   ]
  },
  {
   "cell_type": "code",
   "execution_count": 3,
   "id": "7e75980d-d4d8-4e6a-92ab-65e0c6ecfc0c",
   "metadata": {},
   "outputs": [],
   "source": [
    "x = torch.Tensor([[-1, -1], [-1, 1], [1, -1], [1, 1]])\n",
    "batch_x = torch.tensor([0, 0, 0, 0])\n",
    "y = torch.Tensor([[-1, 0], [1, 0]])\n",
    "batch_x = torch.tensor([0, 0])\n",
    "assign_index = knn(x, y, 1)"
   ]
  },
  {
   "cell_type": "code",
   "execution_count": 4,
   "id": "2063e812-e9ec-4136-a48d-dc5d0fc3761d",
   "metadata": {},
   "outputs": [
    {
     "data": {
      "text/plain": [
       "tensor([[0, 1],\n",
       "        [0, 2]])"
      ]
     },
     "execution_count": 4,
     "metadata": {},
     "output_type": "execute_result"
    }
   ],
   "source": [
    "assign_index"
   ]
  },
  {
   "cell_type": "code",
   "execution_count": 5,
   "id": "2f8f9e7a-a9a4-42d1-a111-a3ef7d94de5e",
   "metadata": {},
   "outputs": [
    {
     "data": {
      "text/plain": [
       "tensor([[0, 1],\n",
       "        [2, 2]])"
      ]
     },
     "execution_count": 5,
     "metadata": {},
     "output_type": "execute_result"
    }
   ],
   "source": [
    "data.edge_index"
   ]
  },
  {
   "cell_type": "code",
   "execution_count": 6,
   "id": "c28fe024-1c86-476c-bb5f-3a24dce77777",
   "metadata": {},
   "outputs": [
    {
     "data": {
      "image/png": "[encoded data removed]",
      "text/plain": [
       "<Figure size 432x288 with 1 Axes>"
      ]
     },
     "metadata": {},
     "output_type": "display_data"
    }
   ],
   "source": [
    "g = torch_geometric.utils.to_networkx(data, to_undirected=False)\n",
    "nx.draw(g, with_labels=True)"
   ]
  },
  {
   "cell_type": "code",
   "execution_count": 7,
   "id": "63055b24-7b2c-4cd3-9267-5a0661ccf78d",
   "metadata": {},
   "outputs": [
    {
     "data": {
      "text/plain": [
       "tensor([[0, 1],\n",
       "        [2, 2]])"
      ]
     },
     "execution_count": 7,
     "metadata": {},
     "output_type": "execute_result"
    }
   ],
   "source": [
    "data.edge_index"
   ]
  },
  {
   "cell_type": "code",
   "execution_count": 8,
   "id": "3845c92a-8f70-424f-b95c-ac460e98de5b",
   "metadata": {},
   "outputs": [
    {
     "data": {
      "text/plain": [
       "tensor([[ 1., -1.],\n",
       "        [ 1.,  1.]])"
      ]
     },
     "execution_count": 8,
     "metadata": {},
     "output_type": "execute_result"
    }
   ],
   "source": [
    "x[np.where(x[:, 0] > 0)[0]]"
   ]
  },
  {
   "cell_type": "code",
   "execution_count": 9,
   "id": "58cbab2e-6cce-4f60-870d-ac5e3a3d9348",
   "metadata": {},
   "outputs": [
    {
     "data": {
      "text/plain": [
       "torch.Size([4, 32])"
      ]
     },
     "execution_count": 9,
     "metadata": {},
     "output_type": "execute_result"
    }
   ],
   "source": [
    "torch.vstack((torch.zeros((3,32)), torch.ones((1,32)))).size()"
   ]
  },
  {
   "cell_type": "code",
   "execution_count": 227,
   "id": "fc3a78f4-a7c5-49e9-b0b7-40927bb25793",
   "metadata": {},
   "outputs": [],
   "source": [
    "class DirectedGraph:\n",
    "    def __init__(self, nodes, edge_dict, num_input_nodes, num_output_nodes):\n",
    "        self.num_input_nodes = num_input_nodes\n",
    "        self.num_output_nodes = num_output_nodes\n",
    "        self.nodes = nodes\n",
    "        self.edge_dict = edge_dict\n",
    "\n",
    "    def add_edges(self, new_edges):\n",
    "        for node in new_edges:\n",
    "            if node not in self.edge_dict:\n",
    "                self.edge_dict[node] = []\n",
    "            destinations = new_edges[node]\n",
    "            for d in destinations:\n",
    "                if d not in self.edge_dict[node]:\n",
    "                    self.edge_dict[node].append(d)\n",
    "\n",
    "    def add_nodes(self, nodes):\n",
    "        self.nodes = torch.vstack((self.nodes, nodes))\n",
    "\n",
    "    def to_data(self):\n",
    "        edges = []\n",
    "\n",
    "        for node in self.edge_dict:\n",
    "            destinations = self.edge_dict[node]\n",
    "            for d in destinations:\n",
    "                edges.append([node, d])\n",
    "        \n",
    "        edges = torch.tensor(edges).long().t().contiguous()\n",
    "        return Data(x=self.nodes, edge_index=edges)\n",
    "\n",
    "\n",
    "    # A recursive function used by topologicalSort\n",
    "    def topologicalSortUtil(self, v, visited, stack):\n",
    " \n",
    "        # Mark the current node as visited.\n",
    "        visited[v] = True\n",
    " \n",
    "        # Recur for all the vertices adjacent to this vertex\n",
    "        if v in self.edge_dict:\n",
    "            for i in self.edge_dict[v]:\n",
    "                if visited[i] == False:\n",
    "                    self.topologicalSortUtil(i, visited, stack)\n",
    "\n",
    "        # Push current vertex to stack which stores result\n",
    "        stack.append(v)\n",
    " \n",
    "    # The function to do Topological Sort. It uses recursive\n",
    "    # topologicalSortUtil()\n",
    "    def topological_sort(self):\n",
    "        # Mark all the vertices as not visited\n",
    "        self.V = self.nodes.size(0)\n",
    "        visited = [False]*self.V\n",
    "        stack = []\n",
    " \n",
    "        # Call the recursive helper function to store Topological\n",
    "        # Sort starting from all vertices one by one\n",
    "        for i in range(self.V):\n",
    "            if visited[i] == False:\n",
    "                self.topologicalSortUtil(i, visited, stack)\n",
    " \n",
    "        # Print contents of the stack\n",
    "        return stack[::-1]\n",
    "\n",
    "    def plot(self):\n",
    "        data = self.to_data()\n",
    "        G = torch_geometric.utils.to_networkx(data, to_undirected=False)\n",
    "\n",
    "        pos=nx.drawing.nx_agraph.graphviz_layout(\n",
    "            G,\n",
    "            prog='dot',\n",
    "            args='-Grankdir=LR'\n",
    "        )\n",
    "\n",
    "        fig = plt.figure()\n",
    "        canvas = FigureCanvas(fig)\n",
    "\n",
    "        nodes = nx.draw_networkx_nodes(G,pos)\n",
    "        edges = nx.draw_networkx_edges(G,pos)\n",
    "        nx.draw_networkx_labels(G, pos)\n",
    "\n",
    "        canvas.draw()       # draw the canvas, cache the renderer\n",
    "\n",
    "        image = np.frombuffer(canvas.tostring_rgb(), dtype='uint8')\n",
    "        image = image.reshape(fig.canvas.get_width_height()[::-1] + (3,))\n",
    "\n",
    "        return image"
   ]
  },
  {
   "cell_type": "code",
   "execution_count": 229,
   "id": "e5e26dc0-d100-4927-829b-d373297e5536",
   "metadata": {},
   "outputs": [
    {
     "data": {
      "image/png": "[encoded data removed]",
      "text/plain": [
       "<Figure size 432x288 with 1 Axes>"
      ]
     },
     "metadata": {},
     "output_type": "display_data"
    }
   ],
   "source": [
    "import torch\n",
    "from torch_geometric.data import Data\n",
    "from torch_geometric.nn import knn_graph, GCNConv, max_pool_neighbor_x, radius_graph\n",
    "import torch_geometric\n",
    "import matplotlib\n",
    "from torch_geometric.utils import get_num_hops, coalesce, k_hop_subgraph\n",
    "\n",
    "x = torch.zeros((5, 2))\n",
    "x[3,0] = 4\n",
    "x[1,0] = 2\n",
    "\n",
    "edge_dict = {1:[0, 3], 2:[0, 3], 4:[0], 3:[4]}\n",
    "graph = DirectedGraph(x[:, 0:1], edge_dict, 2, 1)\n",
    "img = graph.plot()"
   ]
  },
  {
   "cell_type": "code",
   "execution_count": 230,
   "id": "f4cf0b6b-dcec-4db4-a9b8-7c0eea7166f7",
   "metadata": {},
   "outputs": [],
   "source": [
    "class GraphNCA(nn.Module):\n",
    "    def __init__(\n",
    "        self,\n",
    "        graph,\n",
    "        num_operations: int = 3,\n",
    "        num_hidden_channels: int = 16,\n",
    "        num_neighbors: int = 2,\n",
    "    ):\n",
    "        super().__init__()\n",
    "        self.graph = graph\n",
    "\n",
    "        self.value_idx = 0\n",
    "        self.replication_idx = 1\n",
    "\n",
    "        self.replicated_cells = []\n",
    "        self.num_operations = num_operations\n",
    "        self.num_hidden_channels = num_hidden_channels\n",
    "        self.num_neighbors = num_neighbors\n",
    "        self.num_channels = num_operations + num_hidden_channels + 1 + 1\n",
    "        \n",
    "        self.perception_net = GCNConv(self.num_channels, self.num_channels*3, bias=False)\n",
    "        self.update_net = nn.Sequential(\n",
    "            nn.Linear(self.num_channels*3, 32),\n",
    "            nn.ReLU(),\n",
    "            nn.Linear(32, self.num_channels)\n",
    "        )\n",
    "        self.replication_network = nn.Linear(self.num_channels, self.num_channels)\n",
    "\n",
    "    def forward(self, x, edge_index):\n",
    "        features = self.perception_net(x, edge_index)\n",
    "        update = self.update_net(features)\n",
    "        x = x + update\n",
    "        return x, edge_index\n",
    "\n",
    "    def replicate(self, x, edge_dict, replication_threshold: float = 0.5):\n",
    "        num_nodes = x.shape[0]\n",
    "        current_count = num_nodes\n",
    "\n",
    "        ready_to_replicate = x[:, 1] > replication_threshold\n",
    "        ready_to_replicate = ready_to_replicate.squeeze().detach().cpu().numpy()\n",
    "        ready_to_replicate_indices = [i for i in range(len(ready_to_replicate)) if ready_to_replicate[i]]\n",
    "        if len(ready_to_replicate_indices) > 0:\n",
    "            if ready_to_replicate_indices[0] == 0:\n",
    "                ready_to_replicate_indices = ready_to_replicate_indices[1:]\n",
    "\n",
    "            children = self.replication_network(x[ready_to_replicate_indices])\n",
    "\n",
    "            new_edge_dict = {}\n",
    "            for parent_node in ready_to_replicate_indices:\n",
    "                parent_destinations = edge_dict[parent_node]\n",
    "                random_destination = random.choices(parent_destinations, k=1)\n",
    "                new_edge_dict[current_count] = random_destination # set child node to new destination\n",
    "                new_edge_dict[parent_node] = [current_count] # add edge to parent node\n",
    "                current_count += 1\n",
    "\n",
    "            return children, new_edge_dict\n",
    "        return None, None\n",
    "\n",
    "    def add_to_graph(self, children, new_edge_dict):\n",
    "        self.graph.add_nodes(children)\n",
    "        self.graph.add_edges(new_edge_dict)\n"
   ]
  },
  {
   "cell_type": "code",
   "execution_count": 180,
   "id": "245fb465-6ff2-47c4-89d8-0200ed4d6be8",
   "metadata": {},
   "outputs": [],
   "source": [
    "import torch\n",
    "from torch.nn import Linear, Parameter\n",
    "from torch_geometric.nn import MessagePassing\n",
    "from torch_geometric.utils import add_self_loops, degree\n",
    "\n",
    "class NCAGCNConv(MessagePassing):\n",
    "    def __init__(self, graph, in_channels, out_channels, aggr=\"add\", norm=False):\n",
    "        super().__init__(aggr=aggr)  # \"Add\" aggregation (Step 5).\n",
    "        self.graph = graph\n",
    "        self.norm = norm\n",
    "        self.in_channels = in_channels\n",
    "        self.out_channels = out_channels\n",
    "\n",
    "        self.value_channel = 0\n",
    "        self.operation_channels = [1, 3]\n",
    "        self.activation_channels = [4, 5]\n",
    "\n",
    "        self.topological_order = self.graph.topological_sort()\n",
    "        self.operations = [torch.add, torch.subtract, torch.multiply]\n",
    "        self.activations = [torch.relu, torch.tanh]\n",
    "\n",
    "    def forward(self, x, edge_index):\n",
    "        # Step 4-5: Start propagating messages.\n",
    "        out = torch.ones(x[:, self.value_channel:self.value_channel+1].size())*x[:, self.value_channel:self.value_channel+1]\n",
    "        for node in self.topological_order[self.graph.num_input_nodes:]:\n",
    "            operation_logits = x[node, self.operation_channels[0]:self.operation_channels[1]]\n",
    "            activation_logits = x[node, self.activation_channels[0]:self.activation_channels[1]]\n",
    "\n",
    "            operations_dist = td.categorical.Categorical(logits=operation_logits)\n",
    "            activations_dist = td.categorical.Categorical(logits=activation_logits)\n",
    "\n",
    "            sampled_operations = operations_dist.sample().squeeze()\n",
    "            sampled_activations = activations_dist.sample().squeeze()\n",
    "            operation = self.operations[sampled_operations]\n",
    "            activation = self.activations[sampled_activations]\n",
    "\n",
    "            node_ids, edges, _, _ = k_hop_subgraph(node, 1, edge_index)\n",
    "\n",
    "            node_propagate = self.propagate(edges, x=out, operation=operation, activation=activation)\n",
    "            out[node] = out[node] + node_propagate[node] - out[node]\n",
    "        return out\n",
    "\n",
    "    def message(self, x_i, x_j, operation, activation):\n",
    "        # x_j has shape [E, out_channels]\n",
    "        out = operation(x_i, x_j)\n",
    "        return activation(out)"
   ]
  },
  {
   "cell_type": "code",
   "execution_count": 234,
   "id": "6c66ae0e-2562-4c6b-b23d-db9892e61db6",
   "metadata": {},
   "outputs": [
    {
     "data": {
      "image/png": "[encoded data removed]",
      "text/plain": [
       "<Figure size 432x288 with 1 Axes>"
      ]
     },
     "metadata": {},
     "output_type": "display_data"
    }
   ],
   "source": [
    "import torch\n",
    "from torch_geometric.data import Data\n",
    "from torch_geometric.nn import knn_graph, GCNConv, max_pool_neighbor_x, radius_graph\n",
    "import torch_geometric\n",
    "import matplotlib.pyplot as plt\n",
    "from torch_geometric.utils import get_num_hops, coalesce, k_hop_subgraph\n",
    "import io\n",
    "from matplotlib.backends.backend_agg import FigureCanvasAgg as FigureCanvas\n",
    "from matplotlib.figure import Figure\n",
    "x = torch.ones((6, 6))\n",
    "x[4,0] = 4\n",
    "x[2,0] = 2\n",
    "\n",
    "edge_dict = {2:[0, 4], 3:[0, 1, 4], 4:[5], 5:[0, 1], 0:[], 1:[]}\n",
    "graph = DirectedGraph(x, edge_dict, 2, 1)\n",
    "data = graph.to_data()\n",
    "image = graph.plot()\n",
    "# io_buf = io.BytesIO()\n",
    "# fig.savefig(io_buf, format='raw', dpi=128)\n",
    "# io_buf.seek(0)\n",
    "# img_arr = np.reshape(np.frombuffer(io_buf.getvalue(), dtype=np.uint8),\n",
    "#                      newshape=(int(fig.bbox.bounds[3]), int(fig.bbox.bounds[2]), -1))\n",
    "# io_buf.close()\n"
   ]
  },
  {
   "cell_type": "code",
   "execution_count": 235,
   "id": "b30a6bc5-5fab-42ea-9c3e-21580ed7b02c",
   "metadata": {},
   "outputs": [
    {
     "data": {
      "text/plain": [
       "tensor([[ 0.],\n",
       "        [ 0.],\n",
       "        [ 2.],\n",
       "        [ 1.],\n",
       "        [11.],\n",
       "        [12.]])"
      ]
     },
     "execution_count": 235,
     "metadata": {},
     "output_type": "execute_result"
    }
   ],
   "source": [
    "x = identity_conv(data.x, data.edge_index)\n",
    "x"
   ]
  },
  {
   "cell_type": "code",
   "execution_count": 705,
   "id": "cd9b1d71-37f2-4266-a224-8f4d25203394",
   "metadata": {},
   "outputs": [
    {
     "data": {
      "text/plain": [
       "tensor([[25.],\n",
       "        [ 0.],\n",
       "        [ 0.],\n",
       "        [ 0.],\n",
       "        [11.],\n",
       "        [ 3.]])"
      ]
     },
     "execution_count": 705,
     "metadata": {},
     "output_type": "execute_result"
    }
   ],
   "source": [
    "x = identity_conv(x, data.edge_index)\n",
    "x"
   ]
  },
  {
   "cell_type": "code",
   "execution_count": 616,
   "id": "2fc4c071-bc77-4042-ba50-4905a3193e89",
   "metadata": {},
   "outputs": [
    {
     "data": {
      "text/plain": [
       "tensor([[25.],\n",
       "        [ 0.],\n",
       "        [ 0.],\n",
       "        [ 0.],\n",
       "        [11.],\n",
       "        [ 3.]])"
      ]
     },
     "execution_count": 706,
     "metadata": {},
     "output_type": "execute_result"
    }
   ],
   "source": [
    "x"
   ]
  },
  {
   "cell_type": "code",
   "execution_count": 185,
   "id": "0171108b-5b4c-400f-9a79-fe0b4cbd1fb4",
   "metadata": {},
   "outputs": [
    {
     "data": {
      "image/png": "[encoded data removed]",
      "text/plain": [
       "<Figure size 432x288 with 1 Axes>"
      ]
     },
     "metadata": {},
     "output_type": "display_data"
    }
   ],
   "source": [
    "import torch\n",
    "from torch_geometric.data import Data\n",
    "from torch_geometric.nn import knn_graph, GCNConv, max_pool_neighbor_x, radius_graph\n",
    "import torch_geometric\n",
    "import matplotlib\n",
    "\n",
    "x = torch.ones((6, 21))\n",
    "x[0,1] = 1\n",
    "x[1,1] = 2\n",
    "\n",
    "edge_dict = {1:[0, 5], 2:[0, 4], 4:[0], 5:[4]}\n",
    "graph = DirectedGraph(x[:, 0:1], edge_dict, 2, 1)\n",
    "data = graph.to_data()\n",
    "g = torch_geometric.utils.to_networkx(data, to_undirected=False)\n",
    "_ = nx.draw(g, with_labels=True)"
   ]
  },
  {
   "cell_type": "code",
   "execution_count": 714,
   "id": "b9cdd147-c8f3-49e8-affd-9db944cfadd2",
   "metadata": {},
   "outputs": [
    {
     "data": {
      "text/plain": [
       "21"
      ]
     },
     "execution_count": 719,
     "metadata": {},
     "output_type": "execute_result"
    }
   ],
   "source": [
    "nca = GraphNCA(graph, 3, 16, 2)\n",
    "nca.num_channels"
   ]
  },
  {
   "cell_type": "code",
   "execution_count": 715,
   "id": "209f846c-1060-4d32-bd40-099b69844353",
   "metadata": {},
   "outputs": [
    {
     "ename": "RuntimeError",
     "evalue": "mat1 and mat2 shapes cannot be multiplied (6x1 and 21x63)",
     "output_type": "error",
     "traceback": [
      "\u001b[0;31m---------------------------------------------------------------------------\u001b[0m",
      "\u001b[0;31mRuntimeError\u001b[0m                              Traceback (most recent call last)",
      "Input \u001b[0;32mIn [720]\u001b[0m, in \u001b[0;36m<cell line: 1>\u001b[0;34m()\u001b[0m\n\u001b[1;32m      1\u001b[0m \u001b[38;5;28;01mfor\u001b[39;00m i \u001b[38;5;129;01min\u001b[39;00m \u001b[38;5;28mrange\u001b[39m(\u001b[38;5;241m5\u001b[39m):\n\u001b[1;32m      2\u001b[0m     data \u001b[38;5;241m=\u001b[39m nca\u001b[38;5;241m.\u001b[39mgraph\u001b[38;5;241m.\u001b[39mto_data()\n\u001b[0;32m----> 3\u001b[0m     next_x, edge_index  \u001b[38;5;241m=\u001b[39m \u001b[43mnca\u001b[49m\u001b[43m(\u001b[49m\u001b[43mdata\u001b[49m\u001b[38;5;241;43m.\u001b[39;49m\u001b[43mx\u001b[49m\u001b[43m,\u001b[49m\u001b[43m \u001b[49m\u001b[43mdata\u001b[49m\u001b[38;5;241;43m.\u001b[39;49m\u001b[43medge_index\u001b[49m\u001b[43m)\u001b[49m\n\u001b[1;32m      4\u001b[0m     nca\u001b[38;5;241m.\u001b[39mgraph\u001b[38;5;241m.\u001b[39mnodes \u001b[38;5;241m=\u001b[39m next_x\n\u001b[1;32m      6\u001b[0m     children, new_edges \u001b[38;5;241m=\u001b[39m nca\u001b[38;5;241m.\u001b[39mreplicate(next_x, graph\u001b[38;5;241m.\u001b[39medge_dict)\n",
      "File \u001b[0;32m~/anaconda3/envs/pytorch_geometric/lib/python3.8/site-packages/torch/nn/modules/module.py:1130\u001b[0m, in \u001b[0;36mModule._call_impl\u001b[0;34m(self, *input, **kwargs)\u001b[0m\n\u001b[1;32m   1126\u001b[0m \u001b[38;5;66;03m# If we don't have any hooks, we want to skip the rest of the logic in\u001b[39;00m\n\u001b[1;32m   1127\u001b[0m \u001b[38;5;66;03m# this function, and just call forward.\u001b[39;00m\n\u001b[1;32m   1128\u001b[0m \u001b[38;5;28;01mif\u001b[39;00m \u001b[38;5;129;01mnot\u001b[39;00m (\u001b[38;5;28mself\u001b[39m\u001b[38;5;241m.\u001b[39m_backward_hooks \u001b[38;5;129;01mor\u001b[39;00m \u001b[38;5;28mself\u001b[39m\u001b[38;5;241m.\u001b[39m_forward_hooks \u001b[38;5;129;01mor\u001b[39;00m \u001b[38;5;28mself\u001b[39m\u001b[38;5;241m.\u001b[39m_forward_pre_hooks \u001b[38;5;129;01mor\u001b[39;00m _global_backward_hooks\n\u001b[1;32m   1129\u001b[0m         \u001b[38;5;129;01mor\u001b[39;00m _global_forward_hooks \u001b[38;5;129;01mor\u001b[39;00m _global_forward_pre_hooks):\n\u001b[0;32m-> 1130\u001b[0m     \u001b[38;5;28;01mreturn\u001b[39;00m \u001b[43mforward_call\u001b[49m\u001b[43m(\u001b[49m\u001b[38;5;241;43m*\u001b[39;49m\u001b[38;5;28;43minput\u001b[39;49m\u001b[43m,\u001b[49m\u001b[43m \u001b[49m\u001b[38;5;241;43m*\u001b[39;49m\u001b[38;5;241;43m*\u001b[39;49m\u001b[43mkwargs\u001b[49m\u001b[43m)\u001b[49m\n\u001b[1;32m   1131\u001b[0m \u001b[38;5;66;03m# Do not call functions when jit is used\u001b[39;00m\n\u001b[1;32m   1132\u001b[0m full_backward_hooks, non_full_backward_hooks \u001b[38;5;241m=\u001b[39m [], []\n",
      "Input \u001b[0;32mIn [353]\u001b[0m, in \u001b[0;36mGraphNCA.forward\u001b[0;34m(self, x, edge_index)\u001b[0m\n\u001b[1;32m     29\u001b[0m \u001b[38;5;28;01mdef\u001b[39;00m \u001b[38;5;21mforward\u001b[39m(\u001b[38;5;28mself\u001b[39m, x, edge_index):\n\u001b[0;32m---> 30\u001b[0m     features \u001b[38;5;241m=\u001b[39m \u001b[38;5;28;43mself\u001b[39;49m\u001b[38;5;241;43m.\u001b[39;49m\u001b[43mperception_net\u001b[49m\u001b[43m(\u001b[49m\u001b[43mx\u001b[49m\u001b[43m,\u001b[49m\u001b[43m \u001b[49m\u001b[43medge_index\u001b[49m\u001b[43m)\u001b[49m\n\u001b[1;32m     31\u001b[0m     update \u001b[38;5;241m=\u001b[39m \u001b[38;5;28mself\u001b[39m\u001b[38;5;241m.\u001b[39mupdate_net(features)\n\u001b[1;32m     32\u001b[0m     x \u001b[38;5;241m=\u001b[39m x \u001b[38;5;241m+\u001b[39m update\n",
      "File \u001b[0;32m~/anaconda3/envs/pytorch_geometric/lib/python3.8/site-packages/torch/nn/modules/module.py:1130\u001b[0m, in \u001b[0;36mModule._call_impl\u001b[0;34m(self, *input, **kwargs)\u001b[0m\n\u001b[1;32m   1126\u001b[0m \u001b[38;5;66;03m# If we don't have any hooks, we want to skip the rest of the logic in\u001b[39;00m\n\u001b[1;32m   1127\u001b[0m \u001b[38;5;66;03m# this function, and just call forward.\u001b[39;00m\n\u001b[1;32m   1128\u001b[0m \u001b[38;5;28;01mif\u001b[39;00m \u001b[38;5;129;01mnot\u001b[39;00m (\u001b[38;5;28mself\u001b[39m\u001b[38;5;241m.\u001b[39m_backward_hooks \u001b[38;5;129;01mor\u001b[39;00m \u001b[38;5;28mself\u001b[39m\u001b[38;5;241m.\u001b[39m_forward_hooks \u001b[38;5;129;01mor\u001b[39;00m \u001b[38;5;28mself\u001b[39m\u001b[38;5;241m.\u001b[39m_forward_pre_hooks \u001b[38;5;129;01mor\u001b[39;00m _global_backward_hooks\n\u001b[1;32m   1129\u001b[0m         \u001b[38;5;129;01mor\u001b[39;00m _global_forward_hooks \u001b[38;5;129;01mor\u001b[39;00m _global_forward_pre_hooks):\n\u001b[0;32m-> 1130\u001b[0m     \u001b[38;5;28;01mreturn\u001b[39;00m \u001b[43mforward_call\u001b[49m\u001b[43m(\u001b[49m\u001b[38;5;241;43m*\u001b[39;49m\u001b[38;5;28;43minput\u001b[39;49m\u001b[43m,\u001b[49m\u001b[43m \u001b[49m\u001b[38;5;241;43m*\u001b[39;49m\u001b[38;5;241;43m*\u001b[39;49m\u001b[43mkwargs\u001b[49m\u001b[43m)\u001b[49m\n\u001b[1;32m   1131\u001b[0m \u001b[38;5;66;03m# Do not call functions when jit is used\u001b[39;00m\n\u001b[1;32m   1132\u001b[0m full_backward_hooks, non_full_backward_hooks \u001b[38;5;241m=\u001b[39m [], []\n",
      "File \u001b[0;32m~/anaconda3/envs/pytorch_geometric/lib/python3.8/site-packages/torch_geometric/nn/conv/gcn_conv.py:191\u001b[0m, in \u001b[0;36mGCNConv.forward\u001b[0;34m(self, x, edge_index, edge_weight)\u001b[0m\n\u001b[1;32m    188\u001b[0m         \u001b[38;5;28;01melse\u001b[39;00m:\n\u001b[1;32m    189\u001b[0m             edge_index \u001b[38;5;241m=\u001b[39m cache\n\u001b[0;32m--> 191\u001b[0m x \u001b[38;5;241m=\u001b[39m \u001b[38;5;28;43mself\u001b[39;49m\u001b[38;5;241;43m.\u001b[39;49m\u001b[43mlin\u001b[49m\u001b[43m(\u001b[49m\u001b[43mx\u001b[49m\u001b[43m)\u001b[49m\n\u001b[1;32m    193\u001b[0m \u001b[38;5;66;03m# propagate_type: (x: Tensor, edge_weight: OptTensor)\u001b[39;00m\n\u001b[1;32m    194\u001b[0m out \u001b[38;5;241m=\u001b[39m \u001b[38;5;28mself\u001b[39m\u001b[38;5;241m.\u001b[39mpropagate(edge_index, x\u001b[38;5;241m=\u001b[39mx, edge_weight\u001b[38;5;241m=\u001b[39medge_weight,\n\u001b[1;32m    195\u001b[0m                      size\u001b[38;5;241m=\u001b[39m\u001b[38;5;28;01mNone\u001b[39;00m)\n",
      "File \u001b[0;32m~/anaconda3/envs/pytorch_geometric/lib/python3.8/site-packages/torch/nn/modules/module.py:1130\u001b[0m, in \u001b[0;36mModule._call_impl\u001b[0;34m(self, *input, **kwargs)\u001b[0m\n\u001b[1;32m   1126\u001b[0m \u001b[38;5;66;03m# If we don't have any hooks, we want to skip the rest of the logic in\u001b[39;00m\n\u001b[1;32m   1127\u001b[0m \u001b[38;5;66;03m# this function, and just call forward.\u001b[39;00m\n\u001b[1;32m   1128\u001b[0m \u001b[38;5;28;01mif\u001b[39;00m \u001b[38;5;129;01mnot\u001b[39;00m (\u001b[38;5;28mself\u001b[39m\u001b[38;5;241m.\u001b[39m_backward_hooks \u001b[38;5;129;01mor\u001b[39;00m \u001b[38;5;28mself\u001b[39m\u001b[38;5;241m.\u001b[39m_forward_hooks \u001b[38;5;129;01mor\u001b[39;00m \u001b[38;5;28mself\u001b[39m\u001b[38;5;241m.\u001b[39m_forward_pre_hooks \u001b[38;5;129;01mor\u001b[39;00m _global_backward_hooks\n\u001b[1;32m   1129\u001b[0m         \u001b[38;5;129;01mor\u001b[39;00m _global_forward_hooks \u001b[38;5;129;01mor\u001b[39;00m _global_forward_pre_hooks):\n\u001b[0;32m-> 1130\u001b[0m     \u001b[38;5;28;01mreturn\u001b[39;00m \u001b[43mforward_call\u001b[49m\u001b[43m(\u001b[49m\u001b[38;5;241;43m*\u001b[39;49m\u001b[38;5;28;43minput\u001b[39;49m\u001b[43m,\u001b[49m\u001b[43m \u001b[49m\u001b[38;5;241;43m*\u001b[39;49m\u001b[38;5;241;43m*\u001b[39;49m\u001b[43mkwargs\u001b[49m\u001b[43m)\u001b[49m\n\u001b[1;32m   1131\u001b[0m \u001b[38;5;66;03m# Do not call functions when jit is used\u001b[39;00m\n\u001b[1;32m   1132\u001b[0m full_backward_hooks, non_full_backward_hooks \u001b[38;5;241m=\u001b[39m [], []\n",
      "File \u001b[0;32m~/anaconda3/envs/pytorch_geometric/lib/python3.8/site-packages/torch_geometric/nn/dense/linear.py:118\u001b[0m, in \u001b[0;36mLinear.forward\u001b[0;34m(self, x)\u001b[0m\n\u001b[1;32m    113\u001b[0m \u001b[38;5;28;01mdef\u001b[39;00m \u001b[38;5;21mforward\u001b[39m(\u001b[38;5;28mself\u001b[39m, x: Tensor) \u001b[38;5;241m-\u001b[39m\u001b[38;5;241m>\u001b[39m Tensor:\n\u001b[1;32m    114\u001b[0m     \u001b[38;5;124mr\u001b[39m\u001b[38;5;124;03m\"\"\"\u001b[39;00m\n\u001b[1;32m    115\u001b[0m \u001b[38;5;124;03m    Args:\u001b[39;00m\n\u001b[1;32m    116\u001b[0m \u001b[38;5;124;03m        x (Tensor): The features.\u001b[39;00m\n\u001b[1;32m    117\u001b[0m \u001b[38;5;124;03m    \"\"\"\u001b[39;00m\n\u001b[0;32m--> 118\u001b[0m     \u001b[38;5;28;01mreturn\u001b[39;00m \u001b[43mF\u001b[49m\u001b[38;5;241;43m.\u001b[39;49m\u001b[43mlinear\u001b[49m\u001b[43m(\u001b[49m\u001b[43mx\u001b[49m\u001b[43m,\u001b[49m\u001b[43m \u001b[49m\u001b[38;5;28;43mself\u001b[39;49m\u001b[38;5;241;43m.\u001b[39;49m\u001b[43mweight\u001b[49m\u001b[43m,\u001b[49m\u001b[43m \u001b[49m\u001b[38;5;28;43mself\u001b[39;49m\u001b[38;5;241;43m.\u001b[39;49m\u001b[43mbias\u001b[49m\u001b[43m)\u001b[49m\n",
      "\u001b[0;31mRuntimeError\u001b[0m: mat1 and mat2 shapes cannot be multiplied (6x1 and 21x63)"
     ]
    }
   ],
   "source": [
    "for i in range(5):\n",
    "    data = nca.graph.to_data()\n",
    "    next_x, edge_index  = nca(data.x, data.edge_index)\n",
    "    nca.graph.nodes = next_x\n",
    "\n",
    "    children, new_edges = nca.replicate(next_x, graph.edge_dict)\n",
    "    nca.add_to_graph(children, new_edges)\n"
   ]
  },
  {
   "cell_type": "code",
   "execution_count": 296,
   "id": "6e796433-9dd2-4eb2-952e-6a12b9db41c3",
   "metadata": {},
   "outputs": [
    {
     "data": {
      "image/png": "[encoded data removed]",
      "text/plain": [
       "<Figure size 432x288 with 1 Axes>"
      ]
     },
     "metadata": {},
     "output_type": "display_data"
    }
   ],
   "source": [
    "data = nca.graph.to_data()\n",
    "g = torch_geometric.utils.to_networkx(data, to_undirected=False)\n",
    "pos = nx.spring_layout(g, seed = 0)\n",
    "nx.draw(g, pos=pos,with_labels=True)"
   ]
  },
  {
   "cell_type": "code",
   "execution_count": 299,
   "id": "bcb15859-71ec-434e-88f4-63ad144b18a7",
   "metadata": {},
   "outputs": [],
   "source": [
    "identity_conv = IdentityGCNConv(2, 2)"
   ]
  },
  {
   "cell_type": "code",
   "execution_count": 303,
   "id": "5cefb184-f9ba-4049-ab52-ecd19cf44730",
   "metadata": {},
   "outputs": [
    {
     "data": {
      "text/plain": [
       "tensor([[ 2.4437e+00, -1.3570e+00, -1.7705e+00, -3.8046e-01,  1.5004e+00,\n",
       "          1.1859e+00, -5.5154e-01, -5.1324e-01,  1.6691e+00, -1.0229e+00,\n",
       "         -6.6746e-01, -1.6577e-01, -4.9319e-01,  8.6782e-01,  8.1268e-01,\n",
       "         -2.2976e+00, -2.0992e-03, -7.5857e-01,  2.4150e+00,  1.5320e+00,\n",
       "          1.1335e+00],\n",
       "        [ 9.6187e-01,  1.3861e+00, -1.7573e-01, -8.3022e-01, -4.2061e-01,\n",
       "         -1.3385e+00,  3.0175e-01, -6.0508e-01,  2.3885e+00, -4.3559e-01,\n",
       "          6.0779e-01,  8.7722e-01, -1.3140e+00, -1.7622e-01,  6.1953e-01,\n",
       "          8.4663e-02, -2.0124e-02, -1.0324e+00,  1.2065e+00,  2.5444e-01,\n",
       "         -3.7407e-01],\n",
       "        [ 9.2642e-02,  3.9581e-01, -6.6510e-01, -8.4826e-01,  6.5276e-01,\n",
       "          9.7309e-01, -1.8162e+00, -1.3412e+00,  8.6979e-01,  1.0230e+00,\n",
       "         -2.9033e-01, -3.2902e-01, -4.9323e-01,  8.7803e-01,  2.8098e-01,\n",
       "         -6.3776e-01, -4.7226e-01,  1.6691e-01,  9.3597e-01, -1.5739e-01,\n",
       "         -4.7627e-01],\n",
       "        [ 9.2151e-02,  3.3150e-01, -4.1434e-01, -9.4598e-01,  6.6417e-01,\n",
       "          9.3770e-01, -1.6748e+00, -9.7435e-01,  4.3197e-01,  9.0426e-01,\n",
       "         -2.5083e-01, -3.6589e-01, -3.5796e-01,  6.7250e-01,  3.0604e-01,\n",
       "         -5.6752e-01, -2.3339e-01,  1.6463e-02,  6.1838e-01, -1.0293e-01,\n",
       "         -3.0868e-01],\n",
       "        [ 6.7384e-01, -2.3853e-01, -1.1726e+00, -3.2777e-01,  3.9285e-01,\n",
       "          4.5865e-01, -3.7326e-01, -4.4320e-02,  5.2772e-01, -3.3104e-01,\n",
       "         -3.5856e-02,  1.0351e-02,  1.8181e-01,  1.5851e-01, -8.4338e-02,\n",
       "         -2.5848e-01, -7.3553e-01,  1.8168e-01,  3.6721e-01, -5.6370e-01,\n",
       "         -2.3490e-01],\n",
       "        [ 1.4803e-02,  2.7732e-01, -1.9378e-01, -9.7462e-01,  6.7826e-01,\n",
       "          8.4616e-01, -1.6166e+00, -6.7109e-01, -4.1736e-03,  8.9181e-01,\n",
       "         -2.7837e-01, -4.7046e-01, -2.0815e-01,  4.6736e-01,  3.8533e-01,\n",
       "         -5.4692e-01,  7.9569e-03, -1.2021e-01,  3.6801e-01, -1.5853e-01,\n",
       "         -2.3061e-01],\n",
       "        [ 5.1873e-01, -1.4956e-01, -1.0194e+00, -4.3011e-01,  4.2543e-01,\n",
       "          4.3392e-01, -2.6781e-01,  1.3654e-01,  4.0449e-01, -3.7676e-01,\n",
       "         -9.5064e-02, -1.2948e-01,  3.4435e-01, -4.1378e-02,  2.9181e-02,\n",
       "         -3.3221e-01, -5.5273e-01,  6.6599e-02,  1.4967e-01, -5.9884e-01,\n",
       "         -5.9231e-02],\n",
       "        [-1.1667e-01,  2.6640e-01, -5.4366e-03, -9.5214e-01,  6.8341e-01,\n",
       "          7.5243e-01, -1.6128e+00, -3.3771e-01, -4.2410e-01,  8.6811e-01,\n",
       "         -3.3752e-01, -6.0919e-01, -4.5030e-02,  2.5750e-01,  4.6908e-01,\n",
       "         -5.8484e-01,  2.3133e-01, -2.0985e-01,  7.0354e-02, -2.7003e-01,\n",
       "         -1.9834e-01],\n",
       "        [-2.7873e-01,  2.6377e-01,  1.7712e-01, -9.1382e-01,  6.7654e-01,\n",
       "          6.3684e-01, -1.6116e+00, -3.5710e-02, -8.1326e-01,  8.9288e-01,\n",
       "         -4.4322e-01, -7.4586e-01,  1.0952e-01,  8.3175e-03,  5.7740e-01,\n",
       "         -6.5053e-01,  4.7551e-01, -2.8331e-01, -2.1502e-01, -3.9814e-01,\n",
       "         -1.7273e-01]], grad_fn=<CatBackward0>)"
      ]
     },
     "execution_count": 303,
     "metadata": {},
     "output_type": "execute_result"
    }
   ],
   "source": [
    "data.x"
   ]
  },
  {
   "cell_type": "code",
   "execution_count": 302,
   "id": "70cfe4ff-a91b-4e94-85a0-86c8afd5b4d1",
   "metadata": {},
   "outputs": [
    {
     "data": {
      "text/plain": [
       "tensor([[ 1.1703e+00,  4.0100e-01, -1.2123e+00, -1.1024e+00,  6.6422e-01,\n",
       "          3.8248e-01, -1.0485e+00, -8.1578e-01,  1.7262e+00, -5.4060e-02,\n",
       "         -4.9698e-02,  8.2744e-02, -6.4307e-01,  4.4837e-01,  5.4991e-01,\n",
       "         -8.2710e-01, -4.8947e-01, -4.7159e-01,  1.3711e+00, -5.9254e-02,\n",
       "         -2.2754e-01],\n",
       "        [ 9.6187e-01,  1.3861e+00, -1.7573e-01, -8.3022e-01, -4.2061e-01,\n",
       "         -1.3385e+00,  3.0175e-01, -6.0508e-01,  2.3885e+00, -4.3559e-01,\n",
       "          6.0779e-01,  8.7722e-01, -1.3140e+00, -1.7622e-01,  6.1953e-01,\n",
       "          8.4663e-02, -2.0124e-02, -1.0324e+00,  1.2065e+00,  2.5444e-01,\n",
       "         -3.7407e-01],\n",
       "        [ 6.1693e-01,  1.0427e+00, -4.6127e-01, -1.0774e+00,  1.9614e-01,\n",
       "         -1.3588e-01, -9.8947e-01, -1.1212e+00,  1.8129e+00,  3.9094e-01,\n",
       "          1.7052e-01,  2.7483e-01, -1.0424e+00,  4.1510e-01,  5.5336e-01,\n",
       "         -3.5288e-01, -2.4683e-01, -5.3493e-01,  1.2147e+00,  6.0125e-02,\n",
       "         -4.7762e-01],\n",
       "        [ 5.4716e-01,  9.9955e-01, -2.4138e-01, -1.1120e+00,  2.0635e-01,\n",
       "         -2.0944e-01, -9.2167e-01, -7.8670e-01,  1.3816e+00,  3.3930e-01,\n",
       "          1.5479e-01,  1.8144e-01, -8.9295e-01,  2.0826e-01,  6.1606e-01,\n",
       "         -3.3524e-01, -1.2305e-02, -6.6051e-01,  9.2618e-01,  2.2578e-02,\n",
       "         -3.8498e-01],\n",
       "        [ 3.7474e-01,  4.2321e-02, -8.5781e-01, -5.1019e-01,  4.6292e-01,\n",
       "          6.2659e-01, -9.2809e-01, -5.6969e-01,  6.1895e-01,  2.5212e-01,\n",
       "         -1.3646e-01, -1.2915e-01, -1.1046e-01,  4.3771e-01,  7.2540e-02,\n",
       "         -3.8961e-01, -5.6056e-01,  1.5898e-01,  5.6571e-01, -3.4611e-01,\n",
       "         -3.1189e-01],\n",
       "        [ 6.8755e-01,  1.1188e+00, -2.2115e-01, -1.0744e+00,  4.1712e-02,\n",
       "         -5.2342e-01, -5.9491e-01, -7.6340e-01,  1.6868e+00,  1.3790e-01,\n",
       "          2.9059e-01,  3.8506e-01, -1.0332e+00,  1.0907e-01,  6.3074e-01,\n",
       "         -2.1359e-01, -1.0251e-02, -7.9012e-01,  1.0372e+00,  1.0065e-01,\n",
       "         -3.7981e-01],\n",
       "        [ 2.9719e-01,  8.6807e-02, -7.8125e-01, -5.6136e-01,  4.7921e-01,\n",
       "          6.1422e-01, -8.7537e-01, -4.7926e-01,  5.5734e-01,  2.2926e-01,\n",
       "         -1.6606e-01, -1.9906e-01, -2.9186e-02,  3.3776e-01,  1.2930e-01,\n",
       "         -4.2647e-01, -4.6916e-01,  1.0144e-01,  4.5694e-01, -3.6367e-01,\n",
       "         -2.2405e-01],\n",
       "        [ 4.0266e-01,  9.9673e-01, -3.0960e-02, -1.1698e+00,  2.6116e-01,\n",
       "         -2.6202e-01, -1.0213e+00, -4.7649e-01,  9.0560e-01,  4.0240e-01,\n",
       "          5.7461e-02, -1.0976e-03, -7.2892e-01, -1.2514e-02,  7.4977e-01,\n",
       "         -4.1165e-01,  2.5962e-01, -7.8166e-01,  6.3227e-01, -1.0565e-01,\n",
       "         -3.5260e-01],\n",
       "        [ 5.4078e-01,  1.1120e+00, -3.5698e-02, -1.0440e+00,  4.0852e-02,\n",
       "         -6.2808e-01, -5.9245e-01, -4.4571e-01,  1.2823e+00,  1.3844e-01,\n",
       "          2.0817e-01,  2.4736e-01, -8.7435e-01, -1.2045e-01,  7.2677e-01,\n",
       "         -2.6540e-01,  2.2352e-01, -8.7167e-01,  7.4565e-01, -1.9155e-02,\n",
       "         -3.5087e-01]], grad_fn=<ScatterAddBackward0>)"
      ]
     },
     "execution_count": 302,
     "metadata": {},
     "output_type": "execute_result"
    }
   ],
   "source": [
    "identity_conv(data.x, data.edge_index)"
   ]
  },
  {
   "cell_type": "code",
   "execution_count": 277,
   "id": "c881ced5-5964-4167-bcc0-6d709431c712",
   "metadata": {},
   "outputs": [
    {
     "data": {
      "text/plain": [
       "{2: [0, 3, 4, 6, 10, 17],\n",
       " 1: [0],\n",
       " 3: [0, 5, 7, 11, 18],\n",
       " 4: [3, 8, 12, 19],\n",
       " 5: [0, 9, 13, 20],\n",
       " 6: [0, 14, 21],\n",
       " 7: [5, 15, 22],\n",
       " 8: [3, 16, 23],\n",
       " 9: [0],\n",
       " 10: [3, 24],\n",
       " 11: [5, 25],\n",
       " 12: [8, 26],\n",
       " 13: [0],\n",
       " 14: [0, 27],\n",
       " 15: [5],\n",
       " 16: [3],\n",
       " 17: [0],\n",
       " 18: [5],\n",
       " 19: [12],\n",
       " 20: [9],\n",
       " 21: [14],\n",
       " 22: [5],\n",
       " 23: [3],\n",
       " 24: [3],\n",
       " 25: [5],\n",
       " 26: [8],\n",
       " 27: [0]}"
      ]
     },
     "execution_count": 277,
     "metadata": {},
     "output_type": "execute_result"
    }
   ],
   "source": [
    "nca.graph.edge_dict"
   ]
  },
  {
   "cell_type": "code",
   "execution_count": 24,
   "id": "23a767d6-df3c-418e-83e4-f407940ce6b3",
   "metadata": {},
   "outputs": [
    {
     "name": "stdout",
     "output_type": "stream",
     "text": [
      "[array([0, 3])]\n"
     ]
    },
    {
     "ename": "ValueError",
     "evalue": "can only convert an array of size 1 to a Python scalar",
     "output_type": "error",
     "traceback": [
      "\u001b[0;31m---------------------------------------------------------------------------\u001b[0m",
      "\u001b[0;31mValueError\u001b[0m                                Traceback (most recent call last)",
      "Input \u001b[0;32mIn [24]\u001b[0m, in \u001b[0;36m<cell line: 1>\u001b[0;34m()\u001b[0m\n\u001b[0;32m----> 1\u001b[0m children, ready_to_replicate_indices, newer_edges \u001b[38;5;241m=\u001b[39m \u001b[43mnca\u001b[49m\u001b[38;5;241;43m.\u001b[39;49m\u001b[43mreplicate\u001b[49m\u001b[43m(\u001b[49m\u001b[43mnew_x\u001b[49m\u001b[43m,\u001b[49m\u001b[43m \u001b[49m\u001b[43mnew_edges\u001b[49m\u001b[43m)\u001b[49m\n\u001b[1;32m      2\u001b[0m new_x, new_edges \u001b[38;5;241m=\u001b[39m nca\u001b[38;5;241m.\u001b[39madd_to_graph(new_x, newer_edges, children, new_edges)\n",
      "Input \u001b[0;32mIn [7]\u001b[0m, in \u001b[0;36mGraphNCA.replicate\u001b[0;34m(self, x, edge_index, replication_threshold)\u001b[0m\n\u001b[1;32m     57\u001b[0m     source \u001b[38;5;241m=\u001b[39m ready_to_replicate_indices[i]\n\u001b[1;32m     58\u001b[0m     destination \u001b[38;5;241m=\u001b[39m parent_edges[i][\u001b[38;5;241m1\u001b[39m, edge_id]\n\u001b[0;32m---> 59\u001b[0m     new_edges\u001b[38;5;241m.\u001b[39mappend([\u001b[43msource\u001b[49m\u001b[38;5;241;43m.\u001b[39;49m\u001b[43mitem\u001b[49m\u001b[43m(\u001b[49m\u001b[43m)\u001b[49m, current_count])\n\u001b[1;32m     60\u001b[0m     new_edges\u001b[38;5;241m.\u001b[39mappend([current_count, destination\u001b[38;5;241m.\u001b[39mitem()])\n\u001b[1;32m     62\u001b[0m children \u001b[38;5;241m=\u001b[39m \u001b[38;5;28mself\u001b[39m\u001b[38;5;241m.\u001b[39mreplication_network(x[ready_to_replicate_indices])\n",
      "\u001b[0;31mValueError\u001b[0m: can only convert an array of size 1 to a Python scalar"
     ]
    }
   ],
   "source": [
    "children, ready_to_replicate_indices, newer_edges = nca.replicate(new_x, new_edges)\n",
    "new_x, new_edges = nca.add_to_graph(new_x, newer_edges, children, new_edges)"
   ]
  },
  {
   "cell_type": "code",
   "execution_count": 19,
   "id": "376bc047-8095-4513-84e1-2cfce0892802",
   "metadata": {},
   "outputs": [
    {
     "data": {
      "image/png": "[encoded data removed]",
      "text/plain": [
       "<Figure size 432x288 with 1 Axes>"
      ]
     },
     "metadata": {},
     "output_type": "display_data"
    }
   ],
   "source": [
    "data = Data(x=new_x, edge_index=new_edges)\n",
    "g = torch_geometric.utils.to_networkx(data, to_undirected=False)\n",
    "nx.draw(g, with_labels=True)"
   ]
  },
  {
   "cell_type": "code",
   "execution_count": 501,
   "id": "2c7698aa-0c3f-4f95-b287-bf23d2442b0a",
   "metadata": {},
   "outputs": [
    {
     "data": {
      "text/plain": [
       "[array([0])]"
      ]
     },
     "execution_count": 501,
     "metadata": {},
     "output_type": "execute_result"
    }
   ],
   "source": [
    "ready_to_replicate_indices"
   ]
  },
  {
   "cell_type": "code",
   "execution_count": 502,
   "id": "380ef7a5-109a-4aa2-8817-5c957639ab00",
   "metadata": {},
   "outputs": [
    {
     "ename": "IndexError",
     "evalue": "The shape of the mask [3] at index 0 does not match the shape of the indexed tensor [2, 3] at index 0",
     "output_type": "error",
     "traceback": [
      "\u001b[0;31m---------------------------------------------------------------------------\u001b[0m",
      "\u001b[0;31mIndexError\u001b[0m                                Traceback (most recent call last)",
      "Input \u001b[0;32mIn [502]\u001b[0m, in \u001b[0;36m<cell line: 1>\u001b[0;34m()\u001b[0m\n\u001b[0;32m----> 1\u001b[0m \u001b[43mdata\u001b[49m\u001b[38;5;241;43m.\u001b[39;49m\u001b[43medge_index\u001b[49m\u001b[43m[\u001b[49m\u001b[43mdata\u001b[49m\u001b[38;5;241;43m.\u001b[39;49m\u001b[43medge_index\u001b[49m\u001b[43m[\u001b[49m\u001b[38;5;241;43m0\u001b[39;49m\u001b[43m,\u001b[49m\u001b[43m:\u001b[49m\u001b[43m]\u001b[49m\u001b[43m \u001b[49m\u001b[38;5;241;43m==\u001b[39;49m\u001b[43m \u001b[49m\u001b[38;5;241;43m0\u001b[39;49m\u001b[43m]\u001b[49m\u001b[38;5;241m.\u001b[39msqueeze()\n",
      "\u001b[0;31mIndexError\u001b[0m: The shape of the mask [3] at index 0 does not match the shape of the indexed tensor [2, 3] at index 0"
     ]
    }
   ],
   "source": [
    "data.edge_index[data.edge_index[0,:] == 0].squeeze()"
   ]
  },
  {
   "cell_type": "code",
   "execution_count": 268,
   "id": "afb28338-2221-4c58-b73e-2237c6d099ca",
   "metadata": {},
   "outputs": [
    {
     "data": {
      "text/plain": [
       "torch.Size([2])"
      ]
     },
     "execution_count": 268,
     "metadata": {},
     "output_type": "execute_result"
    }
   ],
   "source": [
    "children[-1][0].size()"
   ]
  },
  {
   "cell_type": "code",
   "execution_count": 274,
   "id": "24d75cb9-8cba-4a87-abc0-eb70149a400f",
   "metadata": {},
   "outputs": [
    {
     "data": {
      "text/plain": [
       "tensor([[-2.1518, -0.0545, -0.4852,  0.2450, -0.1192,  0.4385,  0.6099, -0.1925,\n",
       "         -0.3980, -0.6009, -1.3360,  0.9667, -0.4163, -1.3170, -0.8413, -0.8533,\n",
       "          0.8909, -0.4733,  0.8833, -0.1676,  1.3862],\n",
       "        [ 0.4133,  0.1275,  0.7016, -0.9798,  0.1912, -0.4921,  1.5015,  0.8841,\n",
       "          1.3806, -0.6102, -0.6511, -0.0560, -0.0845,  0.4691,  0.4130,  0.9796,\n",
       "         -0.4284,  0.5231, -0.6941, -0.1628, -0.7780],\n",
       "        [ 0.0116, -0.0766, -1.2932,  1.8178, -0.3601, -1.4202,  0.6789, -0.6835,\n",
       "         -0.9408,  0.5244, -1.5726, -0.5691,  1.2863, -0.8838,  0.5926,  0.6874,\n",
       "          0.4350,  0.4006, -0.2375,  0.4477,  0.3360]])"
      ]
     },
     "execution_count": 274,
     "metadata": {},
     "output_type": "execute_result"
    }
   ],
   "source": [
    "import torch\n",
    "from torch_geometric.data import Data\n",
    "\n",
    "edge_index = torch.tensor([[0, 1],\n",
    "                           [1, 2]], dtype=torch.long)\n",
    "x = torch.randn((3, 21)).float()\n",
    "\n",
    "data = Data(x=x, edge_index=edge_index.t())\n",
    "\n",
    "x"
   ]
  },
  {
   "cell_type": "code",
   "execution_count": 275,
   "id": "3a296a6f-085c-4e90-97b8-5b0d8220c455",
   "metadata": {},
   "outputs": [],
   "source": [
    "x, edge_index = nca(data.x, data.edge_index)"
   ]
  },
  {
   "cell_type": "code",
   "execution_count": 276,
   "id": "d7de8059-b480-4321-b284-f576ff6354f5",
   "metadata": {},
   "outputs": [
    {
     "data": {
      "text/plain": [
       "tensor([[-2.1648, -0.0239, -0.4403,  0.0034, -0.1449,  0.4023,  0.9204, -0.3241,\n",
       "         -0.1292, -0.7066, -1.3487,  1.4323, -0.4892, -1.3658, -0.8887, -0.6354,\n",
       "          0.7959, -0.4894,  0.7223,  0.0094,  1.6363],\n",
       "        [ 0.3408,  0.2361,  0.7076, -1.1064,  0.1664, -0.5869,  1.7929,  0.6625,\n",
       "          1.6902, -0.7012, -0.6915,  0.2530, -0.0683,  0.3550,  0.3001,  1.1454,\n",
       "         -0.5667,  0.4875, -0.7918,  0.0720, -0.5668],\n",
       "        [-0.0047, -0.0438, -1.1874,  1.7672, -0.4022, -1.3480,  0.8275, -0.8784,\n",
       "         -0.8981,  0.4702, -1.5520, -0.4244,  1.2870, -0.9447,  0.4383,  0.7652,\n",
       "          0.3059,  0.5264, -0.3326,  0.6082,  0.4845]], grad_fn=<AddBackward0>)"
      ]
     },
     "execution_count": 276,
     "metadata": {},
     "output_type": "execute_result"
    }
   ],
   "source": [
    "x"
   ]
  },
  {
   "cell_type": "code",
   "execution_count": 70,
   "id": "0b786e2d-32be-44e5-af46-187f04e1931a",
   "metadata": {},
   "outputs": [],
   "source": [
    "from torch_geometric.nn import knn_graph, GCNConv, max_pool_neighbor_x, radius_graph"
   ]
  },
  {
   "cell_type": "code",
   "execution_count": 63,
   "id": "9aef4ee8-4827-4c78-95b5-aa25a0114f44",
   "metadata": {},
   "outputs": [],
   "source": [
    "import torch\n",
    "from torch_geometric.nn import knn\n",
    "\n",
    "x = torch.Tensor([[-1, -1], [-1, 1], [1, -1], [1, 1]])\n",
    "y = torch.Tensor([[-1, 0], [1, 0]])\n",
    "assign_index = knn(x, x, 2)"
   ]
  },
  {
   "cell_type": "code",
   "execution_count": 64,
   "id": "032108ba-a90b-4d67-b13e-6c18deeebde0",
   "metadata": {},
   "outputs": [
    {
     "data": {
      "text/plain": [
       "torch.Size([4, 2])"
      ]
     },
     "execution_count": 64,
     "metadata": {},
     "output_type": "execute_result"
    }
   ],
   "source": [
    "x.size()"
   ]
  },
  {
   "cell_type": "code",
   "execution_count": 65,
   "id": "944f44a5-a800-4773-9052-825d44a62d4c",
   "metadata": {},
   "outputs": [
    {
     "data": {
      "text/plain": [
       "tensor([[0, 0, 1, 1, 2, 2, 3, 3],\n",
       "        [0, 1, 1, 0, 2, 0, 3, 1]])"
      ]
     },
     "execution_count": 65,
     "metadata": {},
     "output_type": "execute_result"
    }
   ],
   "source": [
    "assign_index"
   ]
  },
  {
   "cell_type": "code",
   "execution_count": 54,
   "id": "a9a993ed-a0a5-4976-8986-67e5c9a08291",
   "metadata": {},
   "outputs": [
    {
     "data": {
      "text/plain": [
       "Data(x=[3, 2], edge_index=[2, 2])"
      ]
     },
     "execution_count": 54,
     "metadata": {},
     "output_type": "execute_result"
    }
   ],
   "source": [
    "max_pool_neighbor_x(data)"
   ]
  },
  {
   "cell_type": "code",
   "execution_count": 38,
   "id": "097727d3-f158-4b73-a3da-a937cf0ce9e0",
   "metadata": {},
   "outputs": [],
   "source": [
    "conv = GCNConv(-1,2)"
   ]
  },
  {
   "cell_type": "code",
   "execution_count": 39,
   "id": "6baaf781-6714-467b-aef9-1df9def322d2",
   "metadata": {},
   "outputs": [
    {
     "data": {
      "text/plain": [
       "tensor([[ 13.0319,   5.8304],\n",
       "        [  8.9460,   4.0228],\n",
       "        [-14.1074,  -6.2298]], grad_fn=<AddBackward0>)"
      ]
     },
     "execution_count": 39,
     "metadata": {},
     "output_type": "execute_result"
    }
   ],
   "source": [
    "conv(x, data.edge_index)"
   ]
  },
  {
   "cell_type": "code",
   "execution_count": 67,
   "id": "c3ce43b5-cbc0-4580-8807-edb20cd75bdf",
   "metadata": {},
   "outputs": [
    {
     "data": {
      "text/plain": [
       "tensor([[1, 2, 0, 3, 0, 3, 1, 2],\n",
       "        [0, 0, 1, 1, 2, 2, 3, 3]])"
      ]
     },
     "execution_count": 67,
     "metadata": {},
     "output_type": "execute_result"
    }
   ],
   "source": [
    "knn_graph(x, 2)"
   ]
  },
  {
   "cell_type": "code",
   "execution_count": 42,
   "id": "67f07a78-438f-48a3-83b2-97405de9c3c6",
   "metadata": {},
   "outputs": [
    {
     "data": {
      "text/plain": [
       "torch.Size([3, 2])"
      ]
     },
     "execution_count": 42,
     "metadata": {},
     "output_type": "execute_result"
    }
   ],
   "source": [
    "x.size()"
   ]
  },
  {
   "cell_type": "code",
   "execution_count": 45,
   "id": "f8079633-f0a3-4146-8e49-0671ab769f2a",
   "metadata": {},
   "outputs": [
    {
     "data": {
      "text/plain": [
       "tensor([[ 13.0319,   5.8304],\n",
       "        [  8.9460,   4.0228],\n",
       "        [-14.1074,  -6.2298]], grad_fn=<AddBackward0>)"
      ]
     },
     "execution_count": 45,
     "metadata": {},
     "output_type": "execute_result"
    }
   ],
   "source": [
    "conv(x,data.edge_index)"
   ]
  }
 ],
 "metadata": {
  "kernelspec": {
   "display_name": "Python [conda env:pytorch_geometric] *",
   "language": "python",
   "name": "conda-env-pytorch_geometric-py"
  },
  "language_info": {
   "codemirror_mode": {
    "name": "ipython",
    "version": 3
   },
   "file_extension": ".py",
   "mimetype": "text/x-python",
   "name": "python",
   "nbconvert_exporter": "python",
   "pygments_lexer": "ipython3",
   "version": "3.8.0"
  }
 },
 "nbformat": 4,
 "nbformat_minor": 5
}
